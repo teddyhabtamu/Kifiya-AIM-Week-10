{
 "cells": [
  {
   "cell_type": "markdown",
   "metadata": {},
   "source": [
    "## Vector Autoregression (VAR)"
   ]
  },
  {
   "cell_type": "code",
   "execution_count": 1,
   "metadata": {},
   "outputs": [],
   "source": [
    "import pandas as pd"
   ]
  },
  {
   "cell_type": "code",
   "execution_count": 7,
   "metadata": {},
   "outputs": [
    {
     "name": "stderr",
     "output_type": "stream",
     "text": [
      "/tmp/ipykernel_93868/3376751919.py:8: UserWarning: Could not infer format, so each element will be parsed individually, falling back to `dateutil`. To ensure parsing is consistent and as-expected, please specify a format.\n",
      "  data['Date'] = pd.to_datetime(data['Date'])\n",
      "/home/teddy/Desktop/Kifya journey/Kifiya-AIM-Week-10/.venv/lib/python3.10/site-packages/statsmodels/tsa/base/tsa_model.py:473: ValueWarning: A date index has been provided, but it has no associated frequency information and so will be ignored when e.g. forecasting.\n",
      "  self._init_dates(dates, freq)\n",
      "/home/teddy/Desktop/Kifya journey/Kifiya-AIM-Week-10/.venv/lib/python3.10/site-packages/statsmodels/tsa/base/tsa_model.py:473: ValueWarning: A date index has been provided, but it has no associated frequency information and so will be ignored when e.g. forecasting.\n",
      "  self._init_dates(dates, freq)\n",
      "/home/teddy/Desktop/Kifya journey/Kifiya-AIM-Week-10/.venv/lib/python3.10/site-packages/statsmodels/tsa/base/tsa_model.py:473: ValueWarning: A date index has been provided, but it has no associated frequency information and so will be ignored when e.g. forecasting.\n",
      "  self._init_dates(dates, freq)\n"
     ]
    },
    {
     "name": "stdout",
     "output_type": "stream",
     "text": [
      "                               SARIMAX Results                                \n",
      "==============================================================================\n",
      "Dep. Variable:                  Price   No. Observations:                 9011\n",
      "Model:                 ARIMA(5, 1, 0)   Log Likelihood              -14540.613\n",
      "Date:                Tue, 25 Feb 2025   AIC                          29093.226\n",
      "Time:                        13:59:12   BIC                          29135.862\n",
      "Sample:                             0   HQIC                         29107.733\n",
      "                               - 9011                                         \n",
      "Covariance Type:                  opg                                         \n",
      "==============================================================================\n",
      "                 coef    std err          z      P>|z|      [0.025      0.975]\n",
      "------------------------------------------------------------------------------\n",
      "ar.L1          0.0260      0.006      4.344      0.000       0.014       0.038\n",
      "ar.L2         -0.0235      0.006     -4.231      0.000      -0.034      -0.013\n",
      "ar.L3         -0.0071      0.005     -1.507      0.132      -0.016       0.002\n",
      "ar.L4          0.0198      0.006      3.423      0.001       0.008       0.031\n",
      "ar.L5         -0.0026      0.005     -0.503      0.615      -0.013       0.008\n",
      "sigma2         1.4767      0.008    174.914      0.000       1.460       1.493\n",
      "===================================================================================\n",
      "Ljung-Box (L1) (Q):                   0.00   Jarque-Bera (JB):             66733.09\n",
      "Prob(Q):                              0.99   Prob(JB):                         0.00\n",
      "Heteroskedasticity (H):              11.11   Skew:                            -0.67\n",
      "Prob(H) (two-sided):                  0.00   Kurtosis:                        16.26\n",
      "===================================================================================\n",
      "\n",
      "Warnings:\n",
      "[1] Covariance matrix calculated using the outer product of gradients (complex-step).\n"
     ]
    }
   ],
   "source": [
    "from statsmodels.tsa.arima.model import ARIMA\n",
    "import pandas as pd\n",
    "\n",
    "# Load data\n",
    "data = pd.read_csv('../assets/datas/BrentOilPrices.csv')\n",
    "\n",
    "# Convert Date to datetime and set it as index\n",
    "data['Date'] = pd.to_datetime(data['Date'])\n",
    "data.set_index('Date', inplace=True)\n",
    "\n",
    "# Fit ARIMA model (you may need to tune p, d, q)\n",
    "model = ARIMA(data['Price'], order=(5,1,0))  # Example: AR(5), I(1), MA(0)\n",
    "results = model.fit()\n",
    "\n",
    "# Print summary\n",
    "print(results.summary())\n"
   ]
  },
  {
   "cell_type": "code",
   "execution_count": null,
   "metadata": {},
   "outputs": [],
   "source": []
  }
 ],
 "metadata": {
  "kernelspec": {
   "display_name": ".venv",
   "language": "python",
   "name": "python3"
  },
  "language_info": {
   "codemirror_mode": {
    "name": "ipython",
    "version": 3
   },
   "file_extension": ".py",
   "mimetype": "text/x-python",
   "name": "python",
   "nbconvert_exporter": "python",
   "pygments_lexer": "ipython3",
   "version": "3.10.12"
  }
 },
 "nbformat": 4,
 "nbformat_minor": 2
}
